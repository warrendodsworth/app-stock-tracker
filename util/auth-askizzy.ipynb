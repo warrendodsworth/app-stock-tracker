{
 "cells": [
  {
   "cell_type": "code",
   "execution_count": 1,
   "metadata": {},
   "outputs": [
    {
     "name": "stdout",
     "output_type": "stream",
     "text": [
      "Base64 Key:Secret b'ZHdhZDpkYXdkYQ=='\n",
      "{'Authorization': 'Basic ZHdhZDpkYXdkYQ=='}\n"
     ]
    }
   ],
   "source": [
    "# Password hashing function for AskIzzy API\n",
    "import base64\n",
    "\n",
    "key = \"dwad\"\n",
    "secret = \"dawda\"\n",
    "\n",
    "keySecret='{key}:{secret}'.format(key=key,secret=secret)\n",
    "keySecretBase64 = base64.b64encode(keySecret.encode('ascii')) \n",
    "print('Base64 Key:Secret', keySecretBase64)\n",
    "\n",
    "headers = {}\n",
    "headers['Authorization'] = 'Basic ' + keySecretBase64.decode(\"utf-8\")\n",
    "print(headers)\n"
   ]
  }
 ],
 "metadata": {
  "kernelspec": {
   "display_name": "Python 3.9.6 64-bit",
   "language": "python",
   "name": "python3"
  },
  "language_info": {
   "codemirror_mode": {
    "name": "ipython",
    "version": 3
   },
   "file_extension": ".py",
   "mimetype": "text/x-python",
   "name": "python",
   "nbconvert_exporter": "python",
   "pygments_lexer": "ipython3",
   "version": "3.9.6"
  },
  "orig_nbformat": 4,
  "vscode": {
   "interpreter": {
    "hash": "31f2aee4e71d21fbe5cf8b01ff0e069b9275f58929596ceb00d14d90e3e16cd6"
   }
  }
 },
 "nbformat": 4,
 "nbformat_minor": 2
}
