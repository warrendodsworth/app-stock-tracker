{
  "cells": [
    {
      "cell_type": "code",
      "execution_count": 70,
      "metadata": {},
      "outputs": [
        {
          "name": "stdout",
          "output_type": "stream",
          "text": [
            "Set & Get {'name': 'T1'}\n",
            "Hi: linkmateapp\n"
          ]
        }
      ],
      "source": [
        "import firebase_admin as admin\n",
        "from firebase_admin import credentials\n",
        "from firebase_admin import db\n",
        "\n",
        "# https://firebase.google.com/docs/database/admin/start#python\n",
        "\n",
        "cred = credentials.Certificate(\"../service-key.json\")\n",
        "\n",
        "if not firebase_admin._apps:\n",
        "  admin.initialize_app(cred, {\n",
        "    'databaseURL': 'https://linkmateapp-default-rtdb.asia-southeast1.firebasedatabase.app'\n",
        "  })\n",
        "\n",
        "\n",
        "ref = db.reference('demos')\n",
        "ref.set({'name': 'T1'})\n",
        "print('Set & Get', ref.get()) # doesn't save in db, but\n",
        "\n",
        "print('Hi:', app.project_id)"
      ]
    }
  ],
  "metadata": {
    "kernelspec": {
      "display_name": "Python 3.9.6 64-bit",
      "language": "python",
      "name": "python3"
    },
    "language_info": {
      "codemirror_mode": {
        "name": "ipython",
        "version": 3
      },
      "file_extension": ".py",
      "mimetype": "text/x-python",
      "name": "python",
      "nbconvert_exporter": "python",
      "pygments_lexer": "ipython3",
      "version": "3.9.6"
    },
    "orig_nbformat": 4,
    "vscode": {
      "interpreter": {
        "hash": "31f2aee4e71d21fbe5cf8b01ff0e069b9275f58929596ceb00d14d90e3e16cd6"
      }
    }
  },
  "nbformat": 4,
  "nbformat_minor": 2
}
